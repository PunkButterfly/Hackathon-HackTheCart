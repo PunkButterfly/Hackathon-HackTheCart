{
 "cells": [
  {
   "cell_type": "code",
   "execution_count": 1,
   "id": "29c5ec59-5fa9-45c9-ae9b-28d9f9c1a9eb",
   "metadata": {},
   "outputs": [],
   "source": [
    "import pandas as pd\n",
    "import numpy as np\n",
    "\n",
    "import gc\n",
    "\n",
    "from collections import Counter "
   ]
  },
  {
   "cell_type": "code",
   "execution_count": 2,
   "id": "3fcc1a00-697a-4a17-b4cb-54bbcc512229",
   "metadata": {},
   "outputs": [],
   "source": [
    "hist_data = pd.read_csv('hist_data.csv')"
   ]
  },
  {
   "cell_type": "code",
   "execution_count": 3,
   "id": "26fd7550-80fd-4838-bea7-af117a6d9993",
   "metadata": {},
   "outputs": [
    {
     "data": {
      "text/html": [
       "<div>\n",
       "<style scoped>\n",
       "    .dataframe tbody tr th:only-of-type {\n",
       "        vertical-align: middle;\n",
       "    }\n",
       "\n",
       "    .dataframe tbody tr th {\n",
       "        vertical-align: top;\n",
       "    }\n",
       "\n",
       "    .dataframe thead th {\n",
       "        text-align: right;\n",
       "    }\n",
       "</style>\n",
       "<table border=\"1\" class=\"dataframe\">\n",
       "  <thead>\n",
       "    <tr style=\"text-align: right;\">\n",
       "      <th></th>\n",
       "      <th>buyer_id</th>\n",
       "      <th>pav_order_id</th>\n",
       "      <th>created</th>\n",
       "      <th>item_id</th>\n",
       "      <th>count</th>\n",
       "      <th>price_sold</th>\n",
       "      <th>flag_weight_goods</th>\n",
       "      <th>weight</th>\n",
       "    </tr>\n",
       "  </thead>\n",
       "  <tbody>\n",
       "    <tr>\n",
       "      <th>0</th>\n",
       "      <td>95203091</td>\n",
       "      <td>98506637863</td>\n",
       "      <td>2021-07-01 00:03:44</td>\n",
       "      <td>202808329</td>\n",
       "      <td>1.000</td>\n",
       "      <td>79.990</td>\n",
       "      <td>False</td>\n",
       "      <td>11.14</td>\n",
       "    </tr>\n",
       "    <tr>\n",
       "      <th>1</th>\n",
       "      <td>95203091</td>\n",
       "      <td>98506637863</td>\n",
       "      <td>2021-07-01 00:03:44</td>\n",
       "      <td>202953905</td>\n",
       "      <td>1.072</td>\n",
       "      <td>44.945</td>\n",
       "      <td>True</td>\n",
       "      <td>11.14</td>\n",
       "    </tr>\n",
       "    <tr>\n",
       "      <th>2</th>\n",
       "      <td>95203091</td>\n",
       "      <td>98506637863</td>\n",
       "      <td>2021-07-01 00:03:44</td>\n",
       "      <td>203566452</td>\n",
       "      <td>1.000</td>\n",
       "      <td>69.990</td>\n",
       "      <td>False</td>\n",
       "      <td>11.14</td>\n",
       "    </tr>\n",
       "    <tr>\n",
       "      <th>3</th>\n",
       "      <td>95203091</td>\n",
       "      <td>98506637863</td>\n",
       "      <td>2021-07-01 00:03:44</td>\n",
       "      <td>202820143</td>\n",
       "      <td>1.972</td>\n",
       "      <td>41.295</td>\n",
       "      <td>True</td>\n",
       "      <td>11.14</td>\n",
       "    </tr>\n",
       "    <tr>\n",
       "      <th>4</th>\n",
       "      <td>95203091</td>\n",
       "      <td>98506637863</td>\n",
       "      <td>2021-07-01 00:03:44</td>\n",
       "      <td>204400422</td>\n",
       "      <td>1.000</td>\n",
       "      <td>269.990</td>\n",
       "      <td>False</td>\n",
       "      <td>11.14</td>\n",
       "    </tr>\n",
       "  </tbody>\n",
       "</table>\n",
       "</div>"
      ],
      "text/plain": [
       "   buyer_id  pav_order_id              created    item_id  count  price_sold  \\\n",
       "0  95203091   98506637863  2021-07-01 00:03:44  202808329  1.000      79.990   \n",
       "1  95203091   98506637863  2021-07-01 00:03:44  202953905  1.072      44.945   \n",
       "2  95203091   98506637863  2021-07-01 00:03:44  203566452  1.000      69.990   \n",
       "3  95203091   98506637863  2021-07-01 00:03:44  202820143  1.972      41.295   \n",
       "4  95203091   98506637863  2021-07-01 00:03:44  204400422  1.000     269.990   \n",
       "\n",
       "   flag_weight_goods  weight  \n",
       "0              False   11.14  \n",
       "1               True   11.14  \n",
       "2              False   11.14  \n",
       "3               True   11.14  \n",
       "4              False   11.14  "
      ]
     },
     "execution_count": 3,
     "metadata": {},
     "output_type": "execute_result"
    }
   ],
   "source": [
    "hist_data.head()"
   ]
  },
  {
   "cell_type": "markdown",
   "id": "a57eb020-3f2e-4d74-ad8b-2fbb0e60bd0e",
   "metadata": {},
   "source": [
    "### Подготовка данных\n",
    "Мы хотим выделить \"постоянных\" покупателей, которые делали не мене _n_orders_ заказов. От каждого \"постоянного\" покупателя мы расчитаем рейтинг для товаров, которые они покупали: 10 - самый частопокупаемый товар, 1 - товар, который покупался реже всего, 0 - товар, который совсем не покупался. "
   ]
  },
  {
   "cell_type": "code",
   "execution_count": 4,
   "id": "5071f885-59b1-4911-a80b-181f0a49d414",
   "metadata": {},
   "outputs": [],
   "source": [
    "n_orders = 3"
   ]
  },
  {
   "cell_type": "code",
   "execution_count": 5,
   "id": "ca4ee3ae-920e-4807-af5a-a2e0fc4b44de",
   "metadata": {},
   "outputs": [],
   "source": [
    "# создадим массив вида (buyer_id, количество сделанных заказов)\n",
    "grouped = hist_data.groupby(by = 'buyer_id')['pav_order_id'].value_counts()\n",
    "\n",
    "uniq_buyers = hist_data['buyer_id'].unique()\n",
    "buyers_order_count = [0 for i in range(len(uniq_buyers))]\n",
    "\n",
    "it = 0\n",
    "for buyer in uniq_buyers:\n",
    "    buyers_order_count[it] = (buyer, len(grouped[buyer]))\n",
    "    it += 1\n",
    "buyers_order_count = sorted(buyers_order_count, key = lambda x: x[1], reverse=True)"
   ]
  },
  {
   "cell_type": "code",
   "execution_count": 6,
   "id": "a802e176-a9c0-4b3c-b537-54d78e917686",
   "metadata": {},
   "outputs": [],
   "source": [
    "# создаем set постоянных покупателей\n",
    "regular_buyers = set()\n",
    "for buyer in buyers_order_count:\n",
    "    if buyer[1] >= n_orders:\n",
    "        regular_buyers.add(buyer[0])"
   ]
  },
  {
   "cell_type": "code",
   "execution_count": 33,
   "id": "01085258-586d-4ce1-8722-1717fe52d61f",
   "metadata": {},
   "outputs": [],
   "source": [
    "# функция назначения рейтинга\n",
    "def get_rate(buyer_id):\n",
    "    buys = hist_data[hist_data['buyer_id'] == buyer_id]['item_id'].value_counts()\n",
    "    num_of_cart = len(hist_data[hist_data['buyer_id'] == buyer_id]['pav_order_id'].unique())\n",
    "    if buyer_id not in regular_buyers:\n",
    "        buys = buys*0.0\n",
    "    else:\n",
    "        buys = buys*10/num_of_cart\n",
    "    return buys\n"
   ]
  },
  {
   "cell_type": "code",
   "execution_count": 56,
   "id": "89cbed2c-caa6-4ee8-bc1c-0c42f53899e9",
   "metadata": {},
   "outputs": [],
   "source": [
    "# из списка кандидатов по совстречаемости удаляем повторяющиеся item_id, \n",
    "def get_unique_recs(recs: list, top_n: int, our_recommendation: list) -> list:\n",
    "    rec_dict = {}\n",
    "    counter = 0\n",
    "    for k, v in recs:\n",
    "        if k not in rec_dict:\n",
    "            rec_dict[k] = v\n",
    "            counter += 1\n",
    "        if counter == top_n:\n",
    "            break\n",
    "    return (our_recommendation[:top_n//4] + list(rec_dict.keys()) + our_recommendation[top_n//4:])[:20]\n",
    "\n",
    "def rec_by_item(item_id: int, most_freq_dict: dict) -> list:\n",
    "    \n",
    "    return most_freq_dict.get(item_id, None)\n",
    "\n",
    "# для каждого item_id соберем top_n самых часто встречающихся item_id, \n",
    "# отсортируем по частоте и выберем уникальные\n",
    "def rec_by_basket(buyer_id : int, basket: list, most_freq_dict: dict, top_n: int = 20) -> list:\n",
    "    our_recommendation = []\n",
    "    if buyer_id in regular_buyers:\n",
    "        rate_list = get_rate(buyer_id)\n",
    "        items_lst = list(rate_list.index)\n",
    "        rate_lst = list(rate_list.values)\n",
    "        for i in range(len(items_lst)):\n",
    "            item, rate = items_lst[i], rate_lst[i]\n",
    "            if rate < 5:\n",
    "                break\n",
    "            if item not in basket:\n",
    "                our_recommendation.append(item)\n",
    "            if len(our_recommendation) == top_n: #TODO: поменьять на top_n//2\n",
    "                break\n",
    "\n",
    "    res = []\n",
    "    for item in basket:\n",
    "        recs = rec_by_item(item, most_freq_dict)\n",
    "        if recs is not None:\n",
    "            res += recs\n",
    "    \n",
    "    res = sorted(res, key=lambda x: x[1], reverse=True)\n",
    "    \n",
    "    return get_unique_recs(res, top_n, our_recommendation)"
   ]
  },
  {
   "cell_type": "code",
   "execution_count": 57,
   "id": "3526422c-1545-47e1-bbc7-58970040ec34",
   "metadata": {},
   "outputs": [],
   "source": [
    "def apply_relevance(x):\n",
    "    return [int(item in x['basket']) for item in x['preds']]\n",
    "\n",
    "def create_relevance(pred):\n",
    "    d = pred.copy()\n",
    "    d['basket'] = d['basket'].apply(set)\n",
    "    d = d.apply(apply_relevance, axis=1)\n",
    "    return d\n",
    "def make_coocurs_dict(train_data):\n",
    "    tmp = (\n",
    "        train_data[['item_id', 'pav_order_id']]\n",
    "        .sort_values(['item_id', 'pav_order_id'])\n",
    "        .merge(train_data[['item_id', 'pav_order_id']], how='left', on=['pav_order_id'], suffixes=('', '_left'))\n",
    "    )\n",
    "    tmp = tmp[tmp['item_id'] != tmp['item_id_left']].copy()\n",
    "    tmp1 = tmp.groupby(['item_id'])['item_id_left'].agg(lambda x: Counter(x).most_common(10))\n",
    "\n",
    "    most_freq_dict = {k: v for (k, v) in tmp1.iteritems()}\n",
    "\n",
    "    del tmp1, tmp\n",
    "    gc.collect()\n",
    "    return most_freq_dict\n",
    "\n",
    "def create_basket(test_data):\n",
    "    pred = test_data.groupby(['pav_order_id', 'buyer_id'])['item_id'].agg([('basket', list)])\n",
    "    pred.reset_index(inplace=True)\n",
    "    return pred\n",
    "\n",
    "def make_predictions(test_data, most_freq_dict):\n",
    "    pred = create_basket(test_data)\n",
    "    order = []\n",
    "    cart = []\n",
    "    for index, row in pred.iterrows():\n",
    "        order_id = row['pav_order_id']\n",
    "        preds = rec_by_basket(row['buyer_id'], row['basket'], most_freq_dict=most_freq_dict)\n",
    "        order.append(order_id)\n",
    "        cart.append(preds)\n",
    "    ans = pd.DataFrame({'pav_order_id': order, 'preds': cart})\n",
    "    return ans"
   ]
  },
  {
   "cell_type": "code",
   "execution_count": 10,
   "id": "bae1ef00-0339-4af0-b095-858dc6bfb9fd",
   "metadata": {},
   "outputs": [],
   "source": [
    "# соберем словарь встречаемостей - какие item_id покупались чаще с каждым item_id \n",
    "most_freq_dict = make_coocurs_dict(hist_data)\n",
    "# предсказываем\n",
    "test_data = pd.read_csv('test.csv')"
   ]
  },
  {
   "cell_type": "code",
   "execution_count": null,
   "id": "44c31fb1-952d-4826-977c-9a199054046c",
   "metadata": {},
   "outputs": [],
   "source": [
    "pred = make_predictions(test_data, most_freq_dict)"
   ]
  },
  {
   "cell_type": "code",
   "execution_count": null,
   "id": "44d17389-2e7e-414f-8cb5-e8df73ff7857",
   "metadata": {},
   "outputs": [],
   "source": [
    "pred.to_csv(\"final_preds.csv\", index=False)"
   ]
  },
  {
   "cell_type": "code",
   "execution_count": 50,
   "id": "a8709683-1c8b-4acc-9547-40ae68dc59d5",
   "metadata": {},
   "outputs": [
    {
     "data": {
      "text/plain": [
       "(20, 11)"
      ]
     },
     "execution_count": 50,
     "metadata": {},
     "output_type": "execute_result"
    }
   ],
   "source": [
    "max(pred['preds'].apply(len)), min(pred['preds'].apply(len))"
   ]
  },
  {
   "cell_type": "code",
   "execution_count": null,
   "id": "a43d731a-e89d-4be1-b949-bef33044c2b8",
   "metadata": {},
   "outputs": [],
   "source": []
  }
 ],
 "metadata": {
  "kernelspec": {
   "display_name": "azureml_py36_automl",
   "language": "python",
   "name": "conda-env-azureml_py36_automl-py"
  },
  "language_info": {
   "codemirror_mode": {
    "name": "ipython",
    "version": 3
   },
   "file_extension": ".py",
   "mimetype": "text/x-python",
   "name": "python",
   "nbconvert_exporter": "python",
   "pygments_lexer": "ipython3",
   "version": "3.6.9"
  }
 },
 "nbformat": 4,
 "nbformat_minor": 5
}
