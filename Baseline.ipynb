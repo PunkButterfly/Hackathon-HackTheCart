{
  "nbformat": 4,
  "nbformat_minor": 0,
  "metadata": {
    "colab": {
      "name": "Baseline.ipynb",
      "provenance": []
    },
    "kernelspec": {
      "name": "python3",
      "display_name": "Python 3"
    },
    "language_info": {
      "name": "python"
    }
  },
  "cells": [
    {
      "cell_type": "code",
      "execution_count": null,
      "metadata": {
        "id": "1F-YD_EqmCeo"
      },
      "outputs": [],
      "source": [
        "# Пример решения с использованием статистического подхода - подсчет \n",
        "# совстречаемостей.\n",
        "\n",
        "import pandas as pd\n",
        "import numpy as np\n",
        "import gc\n",
        "\n",
        "from collections import Counter \n",
        "\n",
        "hist_data = pd.read_csv('hist_data.csv')\n",
        "\n",
        "# соберем словарь встречаемостей - какие item_id покупались чаще с \n",
        "# каждым item_id \n",
        "tmp = (\n",
        "    hist_data[['item_id', 'pav_order_id']]\n",
        "    .sort_values(['item_id', 'pav_order_id'])\n",
        "    .merge(hist_data[['item_id', 'pav_order_id']], how='left', on=['pav_order_id'], suffixes=('', '_left'))\n",
        ")\n",
        "tmp = tmp[tmp['item_id'] != tmp['item_id_left']].copy()\n",
        "tmp1 = tmp.groupby(['item_id'])['item_id_left'].agg(lambda x: Counter(x).most_common(10))\n",
        "\n",
        "most_freq_dict = {k: v for (k, v) in tmp1.iteritems()}\n",
        "\n",
        "del tmp1, tmp\n",
        "gc.collect()\n",
        "\n",
        "test = pd.read_csv('test.csv')\n",
        "\n",
        "# из списка кандидатов по совстречаемости удаляем повторяющиеся item_id, \n",
        "# сохраняя порядок\n",
        "def get_unique_recs(recs: list, top_n: int) -> list:\n",
        "    rec_dict = {}\n",
        "    counter = 0\n",
        "    for k, v in recs:\n",
        "        if k not in rec_dict:\n",
        "            rec_dict[k] = v\n",
        "            counter += 1\n",
        "        if counter == top_n:\n",
        "            break\n",
        "    return list(rec_dict.keys())\n",
        "\n",
        "def rec_by_item(item_id: int, most_freq_dict: dict) -> list:\n",
        "    \n",
        "    return most_freq_dict.get(item_id, None)\n",
        "\n",
        "# для каждого item_id соберем top_n самых часто встречающихся item_id, \n",
        "# отсортируем по частоте и выберем уникальные\n",
        "def rec_by_basket(basket: list, most_freq_dict: dict, top_n: int = 20) -> list:\n",
        "    \n",
        "    res = []\n",
        "    for item in basket:\n",
        "        recs = rec_by_item(item, most_freq_dict)\n",
        "        if recs is not None:\n",
        "            res += recs\n",
        "    \n",
        "    res = sorted(res, key=lambda x: x[1], reverse=True)\n",
        "    \n",
        "    return get_unique_recs(res, top_n)\n",
        "\n",
        "pred = test.groupby(['pav_order_id'])['item_id'].agg([('basket', list)])\n",
        "pred['preds'] = pred['basket'].map(lambda x: rec_by_basket(x, most_freq_dict=most_freq_dict))\n",
        "\n",
        "pred['preds'].to_csv('pred.csv')"
      ]
    }
  ]
}